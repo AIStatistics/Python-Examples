{
 "cells": [
  {
   "cell_type": "code",
   "execution_count": 2,
   "metadata": {},
   "outputs": [],
   "source": [
    "import torch\n",
    "import torch.nn as nn"
   ]
  },
  {
   "cell_type": "markdown",
   "metadata": {},
   "source": [
    "## Layer Normalization\n",
    "- The mean and standard-deviation are calculated separately over the last\n",
    "certain number dimensions"
   ]
  },
  {
   "cell_type": "code",
   "execution_count": 12,
   "metadata": {},
   "outputs": [
    {
     "name": "stdout",
     "output_type": "stream",
     "text": [
      "shape of mean in normalization:torch.Size([2, 3, 1])\n",
      "y1 should equal to y2\n",
      "y1 from pytorch:tensor([[-0.7852,  0.6866,  1.2550, -1.1563],\n",
      "        [ 0.3378, -0.3639,  1.3829, -1.3568],\n",
      "        [ 1.1503, -0.3477, -1.4580,  0.6554]])\n",
      "y2 from pytorch:tensor([[-0.7852,  0.6866,  1.2550, -1.1563],\n",
      "        [ 0.3378, -0.3639,  1.3829, -1.3568],\n",
      "        [ 1.1503, -0.3477, -1.4580,  0.6554]])\n",
      "check one of the mean of output from layernorm: 0.0\n"
     ]
    }
   ],
   "source": [
    "## Example 1: Layer normalization on the last dimension\n",
    "## input\n",
    "x = torch.randn(2,3,4)\n",
    "layerNorm = torch.nn.LayerNorm(4, elementwise_affine = False)\n",
    "## output from layer normalization\n",
    "y1 = layerNorm(x)\n",
    "\n",
    "## compute mean and standard error on given dimension for layer normalization\n",
    "## here dim = 2\n",
    "mean = x.mean((2), keepdim = True) \n",
    "print(f\"shape of mean in normalization:{mean.shape}\")\n",
    "\n",
    "s2 = (x-mean)**2\n",
    "var = s2.mean((2), keepdim = True)\n",
    "y2 = (x-mean)/torch.sqrt(var+layerNorm.eps)\n",
    "print(\"y1 should equal to y2\")\n",
    "print(f\"y1 from pytorch:{y1[0,:,:]}\")\n",
    "print(f\"y2 from pytorch:{y2[0,:,:]}\")\n",
    "print(f\"check one of the mean of output from layernorm: {y1[0,0,:].mean()}\")"
   ]
  },
  {
   "cell_type": "code",
   "execution_count": 13,
   "metadata": {},
   "outputs": [
    {
     "name": "stdout",
     "output_type": "stream",
     "text": [
      "shape of the mean for layer normalization:torch.Size([2, 1, 1])\n",
      "y1 should equal to y2\n",
      "y1 from pytorch:tensor([[ 2.3093, -0.4518, -0.8980,  0.3362],\n",
      "        [-2.0318, -0.2471,  0.1082,  0.2216],\n",
      "        [ 0.3212,  0.3306,  0.7360, -0.7342]])\n",
      "y2 from pytorch:tensor([[ 2.3093, -0.4518, -0.8980,  0.3362],\n",
      "        [-2.0318, -0.2471,  0.1082,  0.2216],\n",
      "        [ 0.3212,  0.3306,  0.7360, -0.7342]])\n",
      "check one of the mean of output from layernorm: 1.9868215517249155e-08\n"
     ]
    }
   ],
   "source": [
    "## Example 2: Layer normalization on the last two dimension\n",
    "## input\n",
    "x = torch.randn(2,3,4)\n",
    "layerNorm = torch.nn.LayerNorm((3,4), elementwise_affine = False)\n",
    "## output from layer normalization\n",
    "y1 = layerNorm(x)\n",
    "\n",
    "## compute mean and standard error on given dimension for layer normalization\n",
    "## here dim = 2\n",
    "mean = x.mean((1,2), keepdim = True) \n",
    "print(f\"shape of the mean for layer normalization:{mean.shape}\")\n",
    "\n",
    "s2 = (x-mean)**2\n",
    "var = s2.mean((1,2), keepdim = True)\n",
    "y2 = (x-mean)/torch.sqrt(var+layerNorm.eps)\n",
    "print(\"y1 should equal to y2\")\n",
    "print(f\"y1 from pytorch:{y1[0,:,:]}\")\n",
    "print(f\"y2 from pytorch:{y2[0,:,:]}\")\n",
    "print(f\"check one of the mean of output from layernorm: {y1[0,:,:].mean()}\")"
   ]
  },
  {
   "cell_type": "code",
   "execution_count": 14,
   "metadata": {},
   "outputs": [
    {
     "name": "stdout",
     "output_type": "stream",
     "text": [
      "shape of the mean for layer normalization:torch.Size([2, 1, 1, 1])\n",
      "y1 should equal to y2\n",
      "y1 from pytorch:tensor([[[-2.6620e+00, -1.4094e+00,  1.9217e+00, -2.1725e-01, -6.4769e-01],\n",
      "         [-1.1906e-01,  1.5994e-03, -9.5264e-01, -6.4971e-01,  3.7357e-01],\n",
      "         [ 1.8343e-01,  1.9132e+00,  1.2004e-01, -3.2016e-01, -9.1583e-01],\n",
      "         [ 4.9316e-01,  8.7327e-01, -3.7027e-01,  1.3901e+00, -1.1653e+00]],\n",
      "\n",
      "        [[ 2.2722e+00, -2.2620e-01, -9.3603e-02,  9.2616e-02, -2.6175e-01],\n",
      "         [ 5.0905e-01, -6.1658e-01,  2.1296e+00, -1.4511e+00, -7.3320e-01],\n",
      "         [-1.2508e+00, -1.6316e-03,  9.8874e-01,  6.4759e-01, -5.0525e-01],\n",
      "         [ 1.7273e+00, -1.4001e+00, -3.9541e-01,  1.0999e-01,  1.9819e+00]],\n",
      "\n",
      "        [[-3.1121e-01,  3.5838e-01, -5.3852e-01, -3.8746e-01,  1.9319e+00],\n",
      "         [ 4.9711e-01,  3.4969e-01, -5.8687e-01,  5.7491e-01,  5.3429e-01],\n",
      "         [-3.0983e-01, -1.0575e+00,  1.0758e-01,  3.1456e-01,  2.9268e-01],\n",
      "         [-7.8982e-02, -8.4685e-01, -1.2334e+00, -1.1832e+00,  2.0857e-01]]])\n",
      "y2 from pytorch:tensor([[[-2.6620e+00, -1.4094e+00,  1.9217e+00, -2.1725e-01, -6.4769e-01],\n",
      "         [-1.1906e-01,  1.5994e-03, -9.5264e-01, -6.4971e-01,  3.7357e-01],\n",
      "         [ 1.8343e-01,  1.9132e+00,  1.2004e-01, -3.2016e-01, -9.1583e-01],\n",
      "         [ 4.9316e-01,  8.7327e-01, -3.7027e-01,  1.3901e+00, -1.1653e+00]],\n",
      "\n",
      "        [[ 2.2722e+00, -2.2620e-01, -9.3603e-02,  9.2616e-02, -2.6175e-01],\n",
      "         [ 5.0905e-01, -6.1658e-01,  2.1296e+00, -1.4511e+00, -7.3320e-01],\n",
      "         [-1.2508e+00, -1.6316e-03,  9.8874e-01,  6.4759e-01, -5.0525e-01],\n",
      "         [ 1.7273e+00, -1.4001e+00, -3.9541e-01,  1.0999e-01,  1.9819e+00]],\n",
      "\n",
      "        [[-3.1121e-01,  3.5838e-01, -5.3852e-01, -3.8746e-01,  1.9319e+00],\n",
      "         [ 4.9711e-01,  3.4969e-01, -5.8687e-01,  5.7491e-01,  5.3429e-01],\n",
      "         [-3.0983e-01, -1.0575e+00,  1.0758e-01,  3.1456e-01,  2.9268e-01],\n",
      "         [-7.8982e-02, -8.4685e-01, -1.2334e+00, -1.1832e+00,  2.0857e-01]]])\n",
      "check one of the mean of output from layernorm: -1.4901161193847656e-08\n"
     ]
    }
   ],
   "source": [
    "## Example 3: Layer normalization on the last two dimension\n",
    "## input\n",
    "x = torch.randn(2,3,4,5)\n",
    "layerNorm = torch.nn.LayerNorm((3,4,5), elementwise_affine = False)\n",
    "## output from layer normalization\n",
    "y1 = layerNorm(x)\n",
    "\n",
    "## compute mean and standard error on given dimension for layer normalization\n",
    "## here dim = 2\n",
    "mean = x.mean((1,2,3), keepdim = True) \n",
    "print(f\"shape of the mean for layer normalization:{mean.shape}\")\n",
    "\n",
    "s2 = (x-mean)**2\n",
    "var = s2.mean((1,2,3), keepdim = True)\n",
    "y2 = (x-mean)/torch.sqrt(var+layerNorm.eps)\n",
    "print(\"y1 should equal to y2\")\n",
    "print(f\"y1 from pytorch:{y1[0,:,:]}\")\n",
    "print(f\"y2 from pytorch:{y2[0,:,:]}\")\n",
    "print(f\"check one of the mean of output from layernorm: {y1[0,:,:,:].mean()}\")"
   ]
  },
  {
   "cell_type": "code",
   "execution_count": null,
   "metadata": {},
   "outputs": [],
   "source": []
  }
 ],
 "metadata": {
  "kernelspec": {
   "display_name": "Python 3",
   "language": "python",
   "name": "python3"
  },
  "language_info": {
   "codemirror_mode": {
    "name": "ipython",
    "version": 3
   },
   "file_extension": ".py",
   "mimetype": "text/x-python",
   "name": "python",
   "nbconvert_exporter": "python",
   "pygments_lexer": "ipython3",
   "version": "3.6.6"
  }
 },
 "nbformat": 4,
 "nbformat_minor": 1
}
